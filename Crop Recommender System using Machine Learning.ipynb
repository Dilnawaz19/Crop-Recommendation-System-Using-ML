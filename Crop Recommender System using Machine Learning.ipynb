{
 "cells": [
  {
   "cell_type": "code",
   "execution_count": 1,
   "id": "bfe0ebe7",
   "metadata": {},
   "outputs": [],
   "source": [
    "# for manipulation of dataframe\n",
    "import pandas as pd\n",
    "# for creating data visualization\n",
    "import matplotlib.pyplot as plt\n",
    "# for creating distributions \n",
    "import seaborn as sns\n",
    "# for interactivity\n",
    "from ipywidgets import interact"
   ]
  },
  {
   "cell_type": "markdown",
   "id": "c8ceb8e0",
   "metadata": {},
   "source": [
    "# Data Loading"
   ]
  },
  {
   "cell_type": "code",
   "execution_count": 2,
   "id": "fc7f0d6d",
   "metadata": {},
   "outputs": [],
   "source": [
    "# let's load the dataset\n",
    "df=pd.read_excel('crop_prediction.xlsx')"
   ]
  },
  {
   "cell_type": "code",
   "execution_count": 3,
   "id": "be89bdfd",
   "metadata": {},
   "outputs": [
    {
     "data": {
      "text/html": [
       "<div>\n",
       "<style scoped>\n",
       "    .dataframe tbody tr th:only-of-type {\n",
       "        vertical-align: middle;\n",
       "    }\n",
       "\n",
       "    .dataframe tbody tr th {\n",
       "        vertical-align: top;\n",
       "    }\n",
       "\n",
       "    .dataframe thead th {\n",
       "        text-align: right;\n",
       "    }\n",
       "</style>\n",
       "<table border=\"1\" class=\"dataframe\">\n",
       "  <thead>\n",
       "    <tr style=\"text-align: right;\">\n",
       "      <th></th>\n",
       "      <th>N</th>\n",
       "      <th>P</th>\n",
       "      <th>K</th>\n",
       "      <th>temperature</th>\n",
       "      <th>humidity</th>\n",
       "      <th>ph</th>\n",
       "      <th>rainfall</th>\n",
       "      <th>label</th>\n",
       "    </tr>\n",
       "  </thead>\n",
       "  <tbody>\n",
       "    <tr>\n",
       "      <th>0</th>\n",
       "      <td>90.0</td>\n",
       "      <td>42</td>\n",
       "      <td>43</td>\n",
       "      <td>21</td>\n",
       "      <td>82.0</td>\n",
       "      <td>7</td>\n",
       "      <td>203</td>\n",
       "      <td>rice</td>\n",
       "    </tr>\n",
       "    <tr>\n",
       "      <th>1</th>\n",
       "      <td>85.0</td>\n",
       "      <td>58</td>\n",
       "      <td>41</td>\n",
       "      <td>22</td>\n",
       "      <td>80.0</td>\n",
       "      <td>7</td>\n",
       "      <td>227</td>\n",
       "      <td>rice</td>\n",
       "    </tr>\n",
       "    <tr>\n",
       "      <th>2</th>\n",
       "      <td>60.0</td>\n",
       "      <td>55</td>\n",
       "      <td>44</td>\n",
       "      <td>23</td>\n",
       "      <td>82.0</td>\n",
       "      <td>8</td>\n",
       "      <td>264</td>\n",
       "      <td>rice</td>\n",
       "    </tr>\n",
       "    <tr>\n",
       "      <th>3</th>\n",
       "      <td>74.0</td>\n",
       "      <td>35</td>\n",
       "      <td>40</td>\n",
       "      <td>26</td>\n",
       "      <td>80.0</td>\n",
       "      <td>7</td>\n",
       "      <td>243</td>\n",
       "      <td>rice</td>\n",
       "    </tr>\n",
       "    <tr>\n",
       "      <th>4</th>\n",
       "      <td>78.0</td>\n",
       "      <td>42</td>\n",
       "      <td>42</td>\n",
       "      <td>20</td>\n",
       "      <td>82.0</td>\n",
       "      <td>8</td>\n",
       "      <td>263</td>\n",
       "      <td>rice</td>\n",
       "    </tr>\n",
       "  </tbody>\n",
       "</table>\n",
       "</div>"
      ],
      "text/plain": [
       "      N   P   K  temperature  humidity  ph  rainfall label\n",
       "0  90.0  42  43           21      82.0   7       203  rice\n",
       "1  85.0  58  41           22      80.0   7       227  rice\n",
       "2  60.0  55  44           23      82.0   8       264  rice\n",
       "3  74.0  35  40           26      80.0   7       243  rice\n",
       "4  78.0  42  42           20      82.0   8       263  rice"
      ]
     },
     "execution_count": 3,
     "metadata": {},
     "output_type": "execute_result"
    }
   ],
   "source": [
    "# let's check the first five rows of the dataset\n",
    "df.head()"
   ]
  },
  {
   "cell_type": "code",
   "execution_count": 4,
   "id": "4833df67",
   "metadata": {},
   "outputs": [
    {
     "data": {
      "text/plain": [
       "(2200, 8)"
      ]
     },
     "execution_count": 4,
     "metadata": {},
     "output_type": "execute_result"
    }
   ],
   "source": [
    "# let's check the shape of the dataset\n",
    "df.shape"
   ]
  },
  {
   "cell_type": "code",
   "execution_count": 5,
   "id": "84ad1163",
   "metadata": {},
   "outputs": [
    {
     "data": {
      "text/plain": [
       "array(['rice', 'maize', 'chickpea', 'kidneybeans', 'pigeonpeas',\n",
       "       'mothbeans', 'mungbean', 'blackgram', 'lentil', 'pomegranate',\n",
       "       'banana', 'mango', 'grapes', 'watermelon', 'muskmelon', 'apple',\n",
       "       'orange', 'papaya', 'coconut', 'cotton', 'jute', 'coffee'],\n",
       "      dtype=object)"
      ]
     },
     "execution_count": 5,
     "metadata": {},
     "output_type": "execute_result"
    }
   ],
   "source": [
    "# let's check the name of the crops\n",
    "df['label'].unique()"
   ]
  },
  {
   "cell_type": "code",
   "execution_count": 6,
   "id": "f401515a",
   "metadata": {},
   "outputs": [
    {
     "data": {
      "text/plain": [
       "<AxesSubplot:>"
      ]
     },
     "execution_count": 6,
     "metadata": {},
     "output_type": "execute_result"
    },
    {
     "data": {
      "image/png": "[encoded data removed]",
      "text/plain": [
       "<Figure size 432x288 with 1 Axes>"
      ]
     },
     "metadata": {
      "needs_background": "light"
     },
     "output_type": "display_data"
    }
   ],
   "source": [
    "# let's check the count of each crops\n",
    "cols=['white','brown','yellow','white','brown','orange','orange','red','blue','green','green','violet','yellow','red','purple',\n",
    "      'black','green','yellow','green','pink','yellow','brown']\n",
    "df['label'].value_counts().plot.bar(linewidth=1,alpha=1,fill=True,color=cols,hatch='//')"
   ]
  },
  {
   "cell_type": "markdown",
   "id": "8fe5308f",
   "metadata": {},
   "source": [
    "# Data Cleaning"
   ]
  },
  {
   "cell_type": "code",
   "execution_count": 7,
   "id": "39fb5fea",
   "metadata": {},
   "outputs": [
    {
     "data": {
      "text/plain": [
       "N              14\n",
       "P               0\n",
       "K               0\n",
       "temperature     0\n",
       "humidity       21\n",
       "ph              0\n",
       "rainfall        0\n",
       "label           0\n",
       "dtype: int64"
      ]
     },
     "execution_count": 7,
     "metadata": {},
     "output_type": "execute_result"
    }
   ],
   "source": [
    "# let's check if there is any missing value present in the dataset\n",
    "df.isnull().sum()"
   ]
  },
  {
   "cell_type": "code",
   "execution_count": 8,
   "id": "68f96f77",
   "metadata": {},
   "outputs": [],
   "source": [
    "# filling the missing value for Nitrogen column with 0\n",
    "df['N'].fillna(0,inplace=True)"
   ]
  },
  {
   "cell_type": "code",
   "execution_count": 9,
   "id": "1b909d97",
   "metadata": {},
   "outputs": [],
   "source": [
    "# filling the missing value for Humidity column with mean value of Humidity column\n",
    "df['humidity'].fillna(df['humidity'].mean(),inplace=True)"
   ]
  },
  {
   "cell_type": "code",
   "execution_count": 10,
   "id": "08578104",
   "metadata": {},
   "outputs": [
    {
     "data": {
      "text/plain": [
       "N              0\n",
       "P              0\n",
       "K              0\n",
       "temperature    0\n",
       "humidity       0\n",
       "ph             0\n",
       "rainfall       0\n",
       "label          0\n",
       "dtype: int64"
      ]
     },
     "execution_count": 10,
     "metadata": {},
     "output_type": "execute_result"
    }
   ],
   "source": [
    "# let's recheck if there is still any missing value present in the dataset\n",
    "df.isnull().sum()"
   ]
  },
  {
   "cell_type": "markdown",
   "id": "ddb658a3",
   "metadata": {},
   "source": [
    "# Exploratory Data Analysis"
   ]
  },
  {
   "cell_type": "code",
   "execution_count": 11,
   "id": "51777a68",
   "metadata": {},
   "outputs": [
    {
     "data": {
      "text/html": [
       "<div>\n",
       "<style scoped>\n",
       "    .dataframe tbody tr th:only-of-type {\n",
       "        vertical-align: middle;\n",
       "    }\n",
       "\n",
       "    .dataframe tbody tr th {\n",
       "        vertical-align: top;\n",
       "    }\n",
       "\n",
       "    .dataframe thead th {\n",
       "        text-align: right;\n",
       "    }\n",
       "</style>\n",
       "<table border=\"1\" class=\"dataframe\">\n",
       "  <thead>\n",
       "    <tr style=\"text-align: right;\">\n",
       "      <th></th>\n",
       "      <th>N</th>\n",
       "      <th>P</th>\n",
       "      <th>K</th>\n",
       "      <th>temperature</th>\n",
       "      <th>humidity</th>\n",
       "      <th>ph</th>\n",
       "      <th>rainfall</th>\n",
       "    </tr>\n",
       "  </thead>\n",
       "  <tbody>\n",
       "    <tr>\n",
       "      <th>count</th>\n",
       "      <td>2200.000000</td>\n",
       "      <td>2200.000000</td>\n",
       "      <td>2200.000000</td>\n",
       "      <td>2200.000000</td>\n",
       "      <td>2200.000000</td>\n",
       "      <td>2200.000000</td>\n",
       "      <td>2200.000000</td>\n",
       "    </tr>\n",
       "    <tr>\n",
       "      <th>mean</th>\n",
       "      <td>50.286364</td>\n",
       "      <td>53.362727</td>\n",
       "      <td>48.149091</td>\n",
       "      <td>25.613182</td>\n",
       "      <td>71.670491</td>\n",
       "      <td>6.495000</td>\n",
       "      <td>103.458182</td>\n",
       "    </tr>\n",
       "    <tr>\n",
       "      <th>std</th>\n",
       "      <td>37.037324</td>\n",
       "      <td>32.985883</td>\n",
       "      <td>50.647931</td>\n",
       "      <td>5.080069</td>\n",
       "      <td>22.010161</td>\n",
       "      <td>0.786408</td>\n",
       "      <td>54.964423</td>\n",
       "    </tr>\n",
       "    <tr>\n",
       "      <th>min</th>\n",
       "      <td>0.000000</td>\n",
       "      <td>5.000000</td>\n",
       "      <td>5.000000</td>\n",
       "      <td>9.000000</td>\n",
       "      <td>14.000000</td>\n",
       "      <td>4.000000</td>\n",
       "      <td>20.000000</td>\n",
       "    </tr>\n",
       "    <tr>\n",
       "      <th>25%</th>\n",
       "      <td>21.000000</td>\n",
       "      <td>28.000000</td>\n",
       "      <td>20.000000</td>\n",
       "      <td>23.000000</td>\n",
       "      <td>60.000000</td>\n",
       "      <td>6.000000</td>\n",
       "      <td>65.000000</td>\n",
       "    </tr>\n",
       "    <tr>\n",
       "      <th>50%</th>\n",
       "      <td>37.000000</td>\n",
       "      <td>51.000000</td>\n",
       "      <td>32.000000</td>\n",
       "      <td>26.000000</td>\n",
       "      <td>80.000000</td>\n",
       "      <td>6.000000</td>\n",
       "      <td>95.000000</td>\n",
       "    </tr>\n",
       "    <tr>\n",
       "      <th>75%</th>\n",
       "      <td>84.000000</td>\n",
       "      <td>68.000000</td>\n",
       "      <td>49.000000</td>\n",
       "      <td>29.000000</td>\n",
       "      <td>90.000000</td>\n",
       "      <td>7.000000</td>\n",
       "      <td>124.000000</td>\n",
       "    </tr>\n",
       "    <tr>\n",
       "      <th>max</th>\n",
       "      <td>140.000000</td>\n",
       "      <td>145.000000</td>\n",
       "      <td>205.000000</td>\n",
       "      <td>44.000000</td>\n",
       "      <td>100.000000</td>\n",
       "      <td>10.000000</td>\n",
       "      <td>299.000000</td>\n",
       "    </tr>\n",
       "  </tbody>\n",
       "</table>\n",
       "</div>"
      ],
      "text/plain": [
       "                 N            P            K  temperature     humidity  \\\n",
       "count  2200.000000  2200.000000  2200.000000  2200.000000  2200.000000   \n",
       "mean     50.286364    53.362727    48.149091    25.613182    71.670491   \n",
       "std      37.037324    32.985883    50.647931     5.080069    22.010161   \n",
       "min       0.000000     5.000000     5.000000     9.000000    14.000000   \n",
       "25%      21.000000    28.000000    20.000000    23.000000    60.000000   \n",
       "50%      37.000000    51.000000    32.000000    26.000000    80.000000   \n",
       "75%      84.000000    68.000000    49.000000    29.000000    90.000000   \n",
       "max     140.000000   145.000000   205.000000    44.000000   100.000000   \n",
       "\n",
       "                ph     rainfall  \n",
       "count  2200.000000  2200.000000  \n",
       "mean      6.495000   103.458182  \n",
       "std       0.786408    54.964423  \n",
       "min       4.000000    20.000000  \n",
       "25%       6.000000    65.000000  \n",
       "50%       6.000000    95.000000  \n",
       "75%       7.000000   124.000000  \n",
       "max      10.000000   299.000000  "
      ]
     },
     "execution_count": 11,
     "metadata": {},
     "output_type": "execute_result"
    }
   ],
   "source": [
    "# Let's do the descriptive statistics of the dataset\n",
    "df.describe()"
   ]
  },
  {
   "cell_type": "code",
   "execution_count": 12,
   "id": "9409de57",
   "metadata": {},
   "outputs": [],
   "source": [
    "import warnings\n",
    "warnings.filterwarnings('ignore')"
   ]
  },
  {
   "cell_type": "code",
   "execution_count": 13,
   "id": "3417bb97",
   "metadata": {},
   "outputs": [
    {
     "data": {
      "image/png": "[encoded data removed]",
      "text/plain": [
       "<Figure size 600x600 with 7 Axes>"
      ]
     },
     "metadata": {
      "needs_background": "light"
     },
     "output_type": "display_data"
    }
   ],
   "source": [
    "plt.rcParams['figure.figsize'] = (10,10)\n",
    "plt.rcParams['figure.dpi'] = 60\n",
    "\n",
    "features = ['N','P','K','temperature','humidity','ph','rainfall']\n",
    "\n",
    "for i, feat in enumerate(features):\n",
    "    plt.subplot(4,2,i + 1)\n",
    "    sns.distplot(df[feat],color='darkblue')\n",
    "    if i < 3:\n",
    "        plt.title(f'Ratio of {feat}',fontsize = 12)\n",
    "    else:\n",
    "        plt.title(f'Distribution of {feat}',fontsize = 12)\n",
    "    plt.tight_layout()\n",
    "    plt.grid()\n",
    "    "
   ]
  },
  {
   "cell_type": "code",
   "execution_count": 14,
   "id": "bc59eefa",
   "metadata": {},
   "outputs": [
    {
     "data": {
      "text/plain": [
       "<AxesSubplot:>"
      ]
     },
     "execution_count": 14,
     "metadata": {},
     "output_type": "execute_result"
    },
    {
     "data": {
      "image/png": "[encoded data removed]",
      "text/plain": [
       "<Figure size 600x600 with 2 Axes>"
      ]
     },
     "metadata": {
      "needs_background": "light"
     },
     "output_type": "display_data"
    }
   ],
   "source": [
    "# Let's check the correlation between the variables\n",
    "sns.heatmap(df.corr(),annot=True,cbar=True,linewidth=1,linecolor='black',square=True)"
   ]
  },
  {
   "cell_type": "code",
   "execution_count": 15,
   "id": "4bd8fb5f",
   "metadata": {},
   "outputs": [
    {
     "name": "stdout",
     "output_type": "stream",
     "text": [
      "Average Ratio of Nitrogen in the Soil:50.29\n",
      "Average Ratio of Phosphorous in the Soil:53.36\n",
      "Average Ratio of Potassium in the Soil:48.15\n",
      "Average Temperature in the Soil:25.61\n",
      "Average Relative Humidity in % in the Soil:71.67\n",
      "Average PH value of the Soil:6.50\n",
      "Average Rainfall in mm:103.46\n"
     ]
    }
   ],
   "source": [
    "# let's check the Avearge requirement of all the crops\n",
    "\n",
    "print (\"Average Ratio of Nitrogen in the Soil:{0:.2f}\".format(df['N'].mean()))\n",
    "print (\"Average Ratio of Phosphorous in the Soil:{0:.2f}\".format(df['P'].mean()))\n",
    "print (\"Average Ratio of Potassium in the Soil:{0:.2f}\".format(df['K'].mean()))\n",
    "print (\"Average Temperature in the Soil:{0:.2f}\".format(df['temperature'].mean()))\n",
    "print (\"Average Relative Humidity in % in the Soil:{0:.2f}\".format(df['humidity'].mean()))\n",
    "print (\"Average PH value of the Soil:{0:.2f}\".format(df['ph'].mean()))\n",
    "print (\"Average Rainfall in mm:{0:.2f}\".format(df['rainfall'].mean()))"
   ]
  },
  {
   "cell_type": "code",
   "execution_count": 16,
   "id": "05b8eba9",
   "metadata": {},
   "outputs": [
    {
     "data": {
      "application/vnd.jupyter.widget-view+json": {
       "model_id": "ccebc382e47742b8beaa4e80dcde4480",
       "version_major": 2,
       "version_minor": 0
      },
      "text/plain": [
       "interactive(children=(Dropdown(description='conditions', options=('N', 'P', 'K', 'temperature', 'ph', 'humidit…"
      ]
     },
     "metadata": {},
     "output_type": "display_data"
    }
   ],
   "source": [
    "# Let's chech the Summary Statistics for each of the Crops\n",
    "\n",
    "@interact\n",
    "def compare(conditions = ['N','P','K','temperature','ph','humidity','rainfall']):\n",
    "    print(\"Average Value for\", conditions,\"is {0:.2f}\".format(df[conditions].mean()))\n",
    "    print(\"----------------------------------------------\")\n",
    "    print(\"Rice : {0:.2f}\".format(df[(df['label'] == 'rice')][conditions].mean()))\n",
    "    print(\"Maize : {0:.2f}\".format(df[(df['label'] == 'maize')][conditions].mean()))\n",
    "    print(\"Jute : {0:.2f}\".format(df[(df['label'] == 'jute')][conditions].mean()))\n",
    "    print(\"Cotton : {0:.2f}\".format(df[(df['label'] == 'cotton')][conditions].mean()))\n",
    "    print(\"Coconut : {0:.2f}\".format(df[(df['label'] == 'coconut')][conditions].mean()))\n",
    "    print(\"Papaya : {0:.2f}\".format(df[(df['label'] == 'papaya')][conditions].mean()))\n",
    "    print(\"Orange : {0:.2f}\".format(df[(df['label'] == 'orange')][conditions].mean()))\n",
    "    print(\"Apple : {0:.2f}\".format(df[(df['label'] == 'apple')][conditions].mean()))\n",
    "    print(\"Muskmelon : {0:.2f}\".format(df[(df['label'] == 'muskmelon')][conditions].mean()))\n",
    "    print(\"Watermelon : {0:.2f}\".format(df[(df['label'] == 'watermelon')][conditions].mean()))\n",
    "    print(\"Grapes : {0:.2f}\".format(df[(df['label'] == 'grapes')][conditions].mean()))\n",
    "    print(\"Mango : {0:.2f}\".format(df[(df['label'] == 'mango')][conditions].mean()))\n",
    "    print(\"Banana : {0:.2f}\".format(df[(df['label'] == 'banana')][conditions].mean()))\n",
    "    print(\"Pomegranate : {0:.2f}\".format(df[(df['label'] == 'pomegranate')][conditions].mean()))\n",
    "    print(\"Lentil : {0:.2f}\".format(df[(df['label'] == 'lentil')][conditions].mean()))\n",
    "    print(\"Blackgram : {0:.2f}\".format(df[(df['label'] == 'blackgram')][conditions].mean()))\n",
    "    print(\"Mungbean : {0:.2f}\".format(df[(df['label'] == 'mungbean')][conditions].mean()))\n",
    "    print(\"Mothbeans : {0:.2f}\".format(df[(df['label'] == 'mothbeans')][conditions].mean()))\n",
    "    print(\"Pigeonpeas : {0:.2f}\".format(df[(df['label'] == 'pigeonpeas')][conditions].mean()))\n",
    "    print(\"Kidneybeans : {0:.2f}\".format(df[(df['label'] == 'kidneybeans')][conditions].mean()))\n",
    "    print(\"Chickpea : {0:.2f}\".format(df[(df['label'] == 'chickpea')][conditions].mean()))\n",
    "    print(\"Coffee : {0:.2f}\".format(df[(df['label'] == 'coffee')][conditions].mean()))"
   ]
  },
  {
   "cell_type": "code",
   "execution_count": 17,
   "id": "e6c654cf",
   "metadata": {},
   "outputs": [
    {
     "data": {
      "application/vnd.jupyter.widget-view+json": {
       "model_id": "554d2909c86b4b8e81ccba4afc45cb3b",
       "version_major": 2,
       "version_minor": 0
      },
      "text/plain": [
       "interactive(children=(Dropdown(description='crops', options=('rice', 'maize', 'jute', 'cotton', 'coconut', 'pa…"
      ]
     },
     "metadata": {},
     "output_type": "display_data"
    }
   ],
   "source": [
    "# Let's chech the Summary Statistics for each of the Crops\n",
    "\n",
    "@interact\n",
    "def summary(crops = list(df['label'].value_counts().index)):\n",
    "    v = df[df['label']==crops]\n",
    "    print(\"----------------------------------------------\")\n",
    "    print(\"Statistics for Nitrogen\")\n",
    "    print(\"Minimum Nitrogen required :\",v['N'].min())\n",
    "    print(\"Average Nitrogen required :\",v['N'].mean())\n",
    "    print(\"Maximum Nitrogen required :\",v['N'].max())\n",
    "    print(\"----------------------------------------------\")\n",
    "    print(\"Statistics for Phosphorous\")\n",
    "    print(\"Minimum Phosphorous required :\",v['P'].min())\n",
    "    print(\"Average Phosphorous required :\",v['P'].mean())\n",
    "    print(\"Maximum Phosphorous required :\",v['P'].max())\n",
    "    print(\"----------------------------------------------\")\n",
    "    print(\"Statistics for Potassium\")\n",
    "    print(\"Minimum Potassium required :\",v['N'].min())\n",
    "    print(\"Average Potassium required :\",v['N'].mean())\n",
    "    print(\"Maximum Potassium required :\",v['N'].max())\n",
    "    print(\"----------------------------------------------\")\n",
    "    print(\"Statistics for Tempearture\")\n",
    "    print(\"Minimum Tempearture required :{0:.2f}\".format(v['temperature'].min()))\n",
    "    print(\"Average Tempearture required :{0:.2f}\".format(v['temperature'].mean()))\n",
    "    print(\"Maximum Tempearture required :.{0:.2f}\".format(v['temperature'].max()))\n",
    "    print(\"----------------------------------------------\")\n",
    "    print(\"Statistics for Humidity\")\n",
    "    print(\"Minimum Humidity required :{0:.2f}\".format(v['humidity'].min()))\n",
    "    print(\"Average Humidity required :{0:.2f}\".format(v['humidity'].mean()))\n",
    "    print(\"Maximum Humidity required :.{0:.2f}\".format(v['humidity'].max()))\n",
    "    print(\"----------------------------------------------\")\n",
    "    print(\"Statistics for PH\")\n",
    "    print(\"Minimum PH required :{0:.2f}\".format(v['ph'].min()))\n",
    "    print(\"Average PH required :{0:.2f}\".format(v['ph'].mean()))\n",
    "    print(\"Maximum PH required :.{0:.2f}\".format(v['ph'].max()))\n",
    "    print(\"----------------------------------------------\")\n",
    "    print(\"Statistics for Rainfall\")\n",
    "    print(\"Minimum Rainfall required :{0:.2f}\".format(v['rainfall'].min()))\n",
    "    print(\"Average Rainfall required :{0:.2f}\".format(v['rainfall'].mean()))\n",
    "    print(\"Maximum Rainfall required :.{0:.2f}\".format(v['rainfall'].max()))"
   ]
  },
  {
   "cell_type": "markdown",
   "id": "f22ec396",
   "metadata": {},
   "source": [
    "# Model building"
   ]
  },
  {
   "cell_type": "code",
   "execution_count": 18,
   "id": "8fd53b11",
   "metadata": {},
   "outputs": [
    {
     "data": {
      "text/html": [
       "<div>\n",
       "<style scoped>\n",
       "    .dataframe tbody tr th:only-of-type {\n",
       "        vertical-align: middle;\n",
       "    }\n",
       "\n",
       "    .dataframe tbody tr th {\n",
       "        vertical-align: top;\n",
       "    }\n",
       "\n",
       "    .dataframe thead th {\n",
       "        text-align: right;\n",
       "    }\n",
       "</style>\n",
       "<table border=\"1\" class=\"dataframe\">\n",
       "  <thead>\n",
       "    <tr style=\"text-align: right;\">\n",
       "      <th></th>\n",
       "      <th>N</th>\n",
       "      <th>P</th>\n",
       "      <th>K</th>\n",
       "      <th>temperature</th>\n",
       "      <th>humidity</th>\n",
       "      <th>ph</th>\n",
       "      <th>rainfall</th>\n",
       "      <th>label</th>\n",
       "      <th>encoded_label</th>\n",
       "    </tr>\n",
       "  </thead>\n",
       "  <tbody>\n",
       "    <tr>\n",
       "      <th>0</th>\n",
       "      <td>90.0</td>\n",
       "      <td>42</td>\n",
       "      <td>43</td>\n",
       "      <td>21</td>\n",
       "      <td>82.0</td>\n",
       "      <td>7</td>\n",
       "      <td>203</td>\n",
       "      <td>rice</td>\n",
       "      <td>20</td>\n",
       "    </tr>\n",
       "    <tr>\n",
       "      <th>1</th>\n",
       "      <td>85.0</td>\n",
       "      <td>58</td>\n",
       "      <td>41</td>\n",
       "      <td>22</td>\n",
       "      <td>80.0</td>\n",
       "      <td>7</td>\n",
       "      <td>227</td>\n",
       "      <td>rice</td>\n",
       "      <td>20</td>\n",
       "    </tr>\n",
       "    <tr>\n",
       "      <th>2</th>\n",
       "      <td>60.0</td>\n",
       "      <td>55</td>\n",
       "      <td>44</td>\n",
       "      <td>23</td>\n",
       "      <td>82.0</td>\n",
       "      <td>8</td>\n",
       "      <td>264</td>\n",
       "      <td>rice</td>\n",
       "      <td>20</td>\n",
       "    </tr>\n",
       "    <tr>\n",
       "      <th>3</th>\n",
       "      <td>74.0</td>\n",
       "      <td>35</td>\n",
       "      <td>40</td>\n",
       "      <td>26</td>\n",
       "      <td>80.0</td>\n",
       "      <td>7</td>\n",
       "      <td>243</td>\n",
       "      <td>rice</td>\n",
       "      <td>20</td>\n",
       "    </tr>\n",
       "    <tr>\n",
       "      <th>4</th>\n",
       "      <td>78.0</td>\n",
       "      <td>42</td>\n",
       "      <td>42</td>\n",
       "      <td>20</td>\n",
       "      <td>82.0</td>\n",
       "      <td>8</td>\n",
       "      <td>263</td>\n",
       "      <td>rice</td>\n",
       "      <td>20</td>\n",
       "    </tr>\n",
       "  </tbody>\n",
       "</table>\n",
       "</div>"
      ],
      "text/plain": [
       "      N   P   K  temperature  humidity  ph  rainfall label  encoded_label\n",
       "0  90.0  42  43           21      82.0   7       203  rice             20\n",
       "1  85.0  58  41           22      80.0   7       227  rice             20\n",
       "2  60.0  55  44           23      82.0   8       264  rice             20\n",
       "3  74.0  35  40           26      80.0   7       243  rice             20\n",
       "4  78.0  42  42           20      82.0   8       263  rice             20"
      ]
     },
     "execution_count": 18,
     "metadata": {},
     "output_type": "execute_result"
    }
   ],
   "source": [
    "# for conversion of categorical variable into numerical variable\n",
    "from sklearn.preprocessing import LabelEncoder\n",
    "# Let's convert the categorical variable(label) into numerical variable\n",
    "label_encoder=LabelEncoder()\n",
    "df['encoded_label']=label_encoder.fit_transform(df['label'])\n",
    "df.head()"
   ]
  },
  {
   "cell_type": "code",
   "execution_count": 19,
   "id": "9e32e61d",
   "metadata": {},
   "outputs": [
    {
     "data": {
      "text/html": [
       "<div>\n",
       "<style scoped>\n",
       "    .dataframe tbody tr th:only-of-type {\n",
       "        vertical-align: middle;\n",
       "    }\n",
       "\n",
       "    .dataframe tbody tr th {\n",
       "        vertical-align: top;\n",
       "    }\n",
       "\n",
       "    .dataframe thead th {\n",
       "        text-align: right;\n",
       "    }\n",
       "</style>\n",
       "<table border=\"1\" class=\"dataframe\">\n",
       "  <thead>\n",
       "    <tr style=\"text-align: right;\">\n",
       "      <th></th>\n",
       "      <th>N</th>\n",
       "      <th>P</th>\n",
       "      <th>K</th>\n",
       "      <th>temperature</th>\n",
       "      <th>humidity</th>\n",
       "      <th>ph</th>\n",
       "      <th>rainfall</th>\n",
       "      <th>label</th>\n",
       "      <th>encoded_label</th>\n",
       "    </tr>\n",
       "  </thead>\n",
       "  <tbody>\n",
       "  </tbody>\n",
       "</table>\n",
       "</div>"
      ],
      "text/plain": [
       "Empty DataFrame\n",
       "Columns: [N, P, K, temperature, humidity, ph, rainfall, label, encoded_label]\n",
       "Index: []"
      ]
     },
     "execution_count": 19,
     "metadata": {},
     "output_type": "execute_result"
    }
   ],
   "source": [
    "# Let's check the number assigned to our crops\n",
    "df[(df.encoded_label=='rice')].head()"
   ]
  },
  {
   "cell_type": "markdown",
   "id": "07cf98cc",
   "metadata": {},
   "source": [
    "rice=20,\n",
    "maize=11,\n",
    "jute=8,\n",
    "cotton=6,\n",
    "coconut=4,\n",
    "papaya=17,\n",
    "orange=16,\n",
    "apple=0,\n",
    "muskmelon=15,\n",
    "watermelon=21,\n",
    "grapes=7\n",
    "mango=12,\n",
    "banana=1,\n",
    "pomegranate=19,\n",
    "lentil=10,\n",
    "blackgram=2,\n",
    "mungbeans=14,\n",
    "mothbeans=13,\n",
    "pigeonpeas=18,\n",
    "kidneybeans=9,\n",
    "chickpea=3,\n",
    "coffee=5"
   ]
  },
  {
   "cell_type": "code",
   "execution_count": 20,
   "id": "6d8f64c0",
   "metadata": {},
   "outputs": [
    {
     "data": {
      "text/html": [
       "<div>\n",
       "<style scoped>\n",
       "    .dataframe tbody tr th:only-of-type {\n",
       "        vertical-align: middle;\n",
       "    }\n",
       "\n",
       "    .dataframe tbody tr th {\n",
       "        vertical-align: top;\n",
       "    }\n",
       "\n",
       "    .dataframe thead th {\n",
       "        text-align: right;\n",
       "    }\n",
       "</style>\n",
       "<table border=\"1\" class=\"dataframe\">\n",
       "  <thead>\n",
       "    <tr style=\"text-align: right;\">\n",
       "      <th></th>\n",
       "      <th>N</th>\n",
       "      <th>P</th>\n",
       "      <th>K</th>\n",
       "      <th>temperature</th>\n",
       "      <th>humidity</th>\n",
       "      <th>ph</th>\n",
       "      <th>rainfall</th>\n",
       "      <th>encoded_label</th>\n",
       "    </tr>\n",
       "  </thead>\n",
       "  <tbody>\n",
       "    <tr>\n",
       "      <th>0</th>\n",
       "      <td>90.0</td>\n",
       "      <td>42</td>\n",
       "      <td>43</td>\n",
       "      <td>21</td>\n",
       "      <td>82.0</td>\n",
       "      <td>7</td>\n",
       "      <td>203</td>\n",
       "      <td>20</td>\n",
       "    </tr>\n",
       "    <tr>\n",
       "      <th>1</th>\n",
       "      <td>85.0</td>\n",
       "      <td>58</td>\n",
       "      <td>41</td>\n",
       "      <td>22</td>\n",
       "      <td>80.0</td>\n",
       "      <td>7</td>\n",
       "      <td>227</td>\n",
       "      <td>20</td>\n",
       "    </tr>\n",
       "    <tr>\n",
       "      <th>2</th>\n",
       "      <td>60.0</td>\n",
       "      <td>55</td>\n",
       "      <td>44</td>\n",
       "      <td>23</td>\n",
       "      <td>82.0</td>\n",
       "      <td>8</td>\n",
       "      <td>264</td>\n",
       "      <td>20</td>\n",
       "    </tr>\n",
       "    <tr>\n",
       "      <th>3</th>\n",
       "      <td>74.0</td>\n",
       "      <td>35</td>\n",
       "      <td>40</td>\n",
       "      <td>26</td>\n",
       "      <td>80.0</td>\n",
       "      <td>7</td>\n",
       "      <td>243</td>\n",
       "      <td>20</td>\n",
       "    </tr>\n",
       "    <tr>\n",
       "      <th>4</th>\n",
       "      <td>78.0</td>\n",
       "      <td>42</td>\n",
       "      <td>42</td>\n",
       "      <td>20</td>\n",
       "      <td>82.0</td>\n",
       "      <td>8</td>\n",
       "      <td>263</td>\n",
       "      <td>20</td>\n",
       "    </tr>\n",
       "  </tbody>\n",
       "</table>\n",
       "</div>"
      ],
      "text/plain": [
       "      N   P   K  temperature  humidity  ph  rainfall  encoded_label\n",
       "0  90.0  42  43           21      82.0   7       203             20\n",
       "1  85.0  58  41           22      80.0   7       227             20\n",
       "2  60.0  55  44           23      82.0   8       264             20\n",
       "3  74.0  35  40           26      80.0   7       243             20\n",
       "4  78.0  42  42           20      82.0   8       263             20"
      ]
     },
     "execution_count": 20,
     "metadata": {},
     "output_type": "execute_result"
    }
   ],
   "source": [
    "# Let's drop the categorical column(label)\n",
    "df.drop('label',axis=1,inplace=True)\n",
    "df.head()"
   ]
  },
  {
   "cell_type": "code",
   "execution_count": 21,
   "id": "b5c6d045",
   "metadata": {},
   "outputs": [],
   "source": [
    "# Let's define the features and target variable\n",
    "x=df[['N','P','K','temperature','humidity','ph','rainfall']]\n",
    "y=df[['encoded_label']]"
   ]
  },
  {
   "cell_type": "code",
   "execution_count": 22,
   "id": "67a742d5",
   "metadata": {},
   "outputs": [],
   "source": [
    "# Let's split our dataset into training and testing dataset\n",
    "from sklearn.model_selection import train_test_split\n",
    "X_train,X_test,y_train,y_test=train_test_split(x,y,test_size=0.2)"
   ]
  },
  {
   "cell_type": "code",
   "execution_count": 23,
   "id": "734272c3",
   "metadata": {},
   "outputs": [
    {
     "data": {
      "text/plain": [
       "1760"
      ]
     },
     "execution_count": 23,
     "metadata": {},
     "output_type": "execute_result"
    }
   ],
   "source": [
    "# Let's check the length of our Training dataset\n",
    "len(X_train)"
   ]
  },
  {
   "cell_type": "code",
   "execution_count": 24,
   "id": "000697af",
   "metadata": {},
   "outputs": [
    {
     "data": {
      "text/plain": [
       "440"
      ]
     },
     "execution_count": 24,
     "metadata": {},
     "output_type": "execute_result"
    }
   ],
   "source": [
    "# Let's check the length of our Testing dataset\n",
    "len(X_test)"
   ]
  },
  {
   "cell_type": "code",
   "execution_count": 25,
   "id": "5560e150",
   "metadata": {},
   "outputs": [
    {
     "data": {
      "text/plain": [
       "RandomForestClassifier(n_estimators=15)"
      ]
     },
     "execution_count": 25,
     "metadata": {},
     "output_type": "execute_result"
    }
   ],
   "source": [
    "# Importing Random Forest algorithm from sklearn\n",
    "from sklearn.ensemble import RandomForestClassifier\n",
    "# Let's train our model\n",
    "model=RandomForestClassifier(n_estimators=15)\n",
    "model.fit(X_train,y_train)"
   ]
  },
  {
   "cell_type": "code",
   "execution_count": 26,
   "id": "092d1413",
   "metadata": {},
   "outputs": [
    {
     "data": {
      "text/html": [
       "<div>\n",
       "<style scoped>\n",
       "    .dataframe tbody tr th:only-of-type {\n",
       "        vertical-align: middle;\n",
       "    }\n",
       "\n",
       "    .dataframe tbody tr th {\n",
       "        vertical-align: top;\n",
       "    }\n",
       "\n",
       "    .dataframe thead th {\n",
       "        text-align: right;\n",
       "    }\n",
       "</style>\n",
       "<table border=\"1\" class=\"dataframe\">\n",
       "  <thead>\n",
       "    <tr style=\"text-align: right;\">\n",
       "      <th></th>\n",
       "      <th>0</th>\n",
       "    </tr>\n",
       "  </thead>\n",
       "  <tbody>\n",
       "    <tr>\n",
       "      <th>0</th>\n",
       "      <td>5</td>\n",
       "    </tr>\n",
       "    <tr>\n",
       "      <th>1</th>\n",
       "      <td>21</td>\n",
       "    </tr>\n",
       "    <tr>\n",
       "      <th>2</th>\n",
       "      <td>19</td>\n",
       "    </tr>\n",
       "    <tr>\n",
       "      <th>3</th>\n",
       "      <td>20</td>\n",
       "    </tr>\n",
       "    <tr>\n",
       "      <th>4</th>\n",
       "      <td>9</td>\n",
       "    </tr>\n",
       "    <tr>\n",
       "      <th>...</th>\n",
       "      <td>...</td>\n",
       "    </tr>\n",
       "    <tr>\n",
       "      <th>435</th>\n",
       "      <td>2</td>\n",
       "    </tr>\n",
       "    <tr>\n",
       "      <th>436</th>\n",
       "      <td>8</td>\n",
       "    </tr>\n",
       "    <tr>\n",
       "      <th>437</th>\n",
       "      <td>12</td>\n",
       "    </tr>\n",
       "    <tr>\n",
       "      <th>438</th>\n",
       "      <td>2</td>\n",
       "    </tr>\n",
       "    <tr>\n",
       "      <th>439</th>\n",
       "      <td>6</td>\n",
       "    </tr>\n",
       "  </tbody>\n",
       "</table>\n",
       "<p>440 rows × 1 columns</p>\n",
       "</div>"
      ],
      "text/plain": [
       "      0\n",
       "0     5\n",
       "1    21\n",
       "2    19\n",
       "3    20\n",
       "4     9\n",
       "..   ..\n",
       "435   2\n",
       "436   8\n",
       "437  12\n",
       "438   2\n",
       "439   6\n",
       "\n",
       "[440 rows x 1 columns]"
      ]
     },
     "execution_count": 26,
     "metadata": {},
     "output_type": "execute_result"
    }
   ],
   "source": [
    "# Predicting the model with testing dataset(X_test)\n",
    "y_predicted=model.predict(X_test)\n",
    "Y_predicted=pd.DataFrame(y_predicted)\n",
    "Y_predicted\n",
    "Y_predicted.reset_index(drop=True)"
   ]
  },
  {
   "cell_type": "code",
   "execution_count": 27,
   "id": "635753c2",
   "metadata": {},
   "outputs": [
    {
     "data": {
      "text/html": [
       "<div>\n",
       "<style scoped>\n",
       "    .dataframe tbody tr th:only-of-type {\n",
       "        vertical-align: middle;\n",
       "    }\n",
       "\n",
       "    .dataframe tbody tr th {\n",
       "        vertical-align: top;\n",
       "    }\n",
       "\n",
       "    .dataframe thead th {\n",
       "        text-align: right;\n",
       "    }\n",
       "</style>\n",
       "<table border=\"1\" class=\"dataframe\">\n",
       "  <thead>\n",
       "    <tr style=\"text-align: right;\">\n",
       "      <th></th>\n",
       "      <th>encoded_label</th>\n",
       "    </tr>\n",
       "  </thead>\n",
       "  <tbody>\n",
       "    <tr>\n",
       "      <th>0</th>\n",
       "      <td>5</td>\n",
       "    </tr>\n",
       "    <tr>\n",
       "      <th>1</th>\n",
       "      <td>21</td>\n",
       "    </tr>\n",
       "    <tr>\n",
       "      <th>2</th>\n",
       "      <td>19</td>\n",
       "    </tr>\n",
       "    <tr>\n",
       "      <th>3</th>\n",
       "      <td>20</td>\n",
       "    </tr>\n",
       "    <tr>\n",
       "      <th>4</th>\n",
       "      <td>9</td>\n",
       "    </tr>\n",
       "    <tr>\n",
       "      <th>...</th>\n",
       "      <td>...</td>\n",
       "    </tr>\n",
       "    <tr>\n",
       "      <th>435</th>\n",
       "      <td>2</td>\n",
       "    </tr>\n",
       "    <tr>\n",
       "      <th>436</th>\n",
       "      <td>8</td>\n",
       "    </tr>\n",
       "    <tr>\n",
       "      <th>437</th>\n",
       "      <td>12</td>\n",
       "    </tr>\n",
       "    <tr>\n",
       "      <th>438</th>\n",
       "      <td>2</td>\n",
       "    </tr>\n",
       "    <tr>\n",
       "      <th>439</th>\n",
       "      <td>6</td>\n",
       "    </tr>\n",
       "  </tbody>\n",
       "</table>\n",
       "<p>440 rows × 1 columns</p>\n",
       "</div>"
      ],
      "text/plain": [
       "     encoded_label\n",
       "0                5\n",
       "1               21\n",
       "2               19\n",
       "3               20\n",
       "4                9\n",
       "..             ...\n",
       "435              2\n",
       "436              8\n",
       "437             12\n",
       "438              2\n",
       "439              6\n",
       "\n",
       "[440 rows x 1 columns]"
      ]
     },
     "execution_count": 27,
     "metadata": {},
     "output_type": "execute_result"
    }
   ],
   "source": [
    "# Actual values from which our testing phase should be compared\n",
    "y_test\n",
    "y_test.reset_index(drop=True)"
   ]
  },
  {
   "cell_type": "markdown",
   "id": "d0b3352d",
   "metadata": {},
   "source": [
    "# Model Testing"
   ]
  },
  {
   "cell_type": "code",
   "execution_count": 28,
   "id": "bcea2d05",
   "metadata": {},
   "outputs": [
    {
     "data": {
      "text/plain": [
       "array([12])"
      ]
     },
     "execution_count": 28,
     "metadata": {},
     "output_type": "execute_result"
    }
   ],
   "source": [
    "# Let's test our model with some random values\n",
    "model.predict([[50,30,40,25,70,6,100]])"
   ]
  },
  {
   "cell_type": "code",
   "execution_count": 29,
   "id": "433cf3a1",
   "metadata": {},
   "outputs": [
    {
     "data": {
      "text/plain": [
       "99.0909090909091"
      ]
     },
     "execution_count": 29,
     "metadata": {},
     "output_type": "execute_result"
    }
   ],
   "source": [
    "# Lets's calculate the score of our model\n",
    "model.score(X_test,y_test)*100"
   ]
  },
  {
   "cell_type": "code",
   "execution_count": 30,
   "id": "0b7b76ac",
   "metadata": {},
   "outputs": [
    {
     "data": {
      "text/plain": [
       "Text(0.5, 1.0, 'Confusion_Matrix')"
      ]
     },
     "execution_count": 30,
     "metadata": {},
     "output_type": "execute_result"
    },
    {
     "data": {
      "image/png": "[encoded data removed]",
      "text/plain": [
       "<Figure size 420x420 with 1 Axes>"
      ]
     },
     "metadata": {
      "needs_background": "light"
     },
     "output_type": "display_data"
    }
   ],
   "source": [
    "# for creating confusion matrix\n",
    "from sklearn.metrics import confusion_matrix\n",
    "# Let's check where our Model fails \n",
    "plt.figure(figsize=(7,7))\n",
    "cm=confusion_matrix(y_test,y_predicted)\n",
    "sns.heatmap(cm,annot=True,cbar=False,linewidth=1,linecolor='black',cmap='RdBu',square=True)\n",
    "plt.xlabel('Model_predicted')\n",
    "plt.ylabel('Actual_data')\n",
    "plt.title('Confusion_Matrix')"
   ]
  },
  {
   "cell_type": "code",
   "execution_count": 31,
   "id": "4dfcdc29",
   "metadata": {},
   "outputs": [
    {
     "name": "stdout",
     "output_type": "stream",
     "text": [
      "              precision    recall  f1-score   support\n",
      "\n",
      "           0       1.00      1.00      1.00        17\n",
      "           1       1.00      1.00      1.00        20\n",
      "           2       1.00      1.00      1.00        22\n",
      "           3       1.00      1.00      1.00        30\n",
      "           4       1.00      1.00      1.00         9\n",
      "           5       1.00      1.00      1.00        20\n",
      "           6       1.00      1.00      1.00        18\n",
      "           7       1.00      1.00      1.00        18\n",
      "           8       0.88      1.00      0.93        21\n",
      "           9       1.00      1.00      1.00        19\n",
      "          10       1.00      1.00      1.00        16\n",
      "          11       1.00      0.96      0.98        25\n",
      "          12       1.00      1.00      1.00        22\n",
      "          13       1.00      1.00      1.00        14\n",
      "          14       1.00      1.00      1.00        23\n",
      "          15       1.00      1.00      1.00        17\n",
      "          16       1.00      1.00      1.00        21\n",
      "          17       1.00      1.00      1.00        23\n",
      "          18       0.95      1.00      0.97        19\n",
      "          19       1.00      1.00      1.00        25\n",
      "          20       1.00      0.84      0.91        19\n",
      "          21       1.00      1.00      1.00        22\n",
      "\n",
      "    accuracy                           0.99       440\n",
      "   macro avg       0.99      0.99      0.99       440\n",
      "weighted avg       0.99      0.99      0.99       440\n",
      "\n"
     ]
    }
   ],
   "source": [
    "# for creating classification report\n",
    "from sklearn.metrics import classification_report\n",
    "# Let's print our classification report\n",
    "cr=classification_report(y_test,y_predicted)\n",
    "print(cr)"
   ]
  }
 ],
 "metadata": {
  "kernelspec": {
   "display_name": "Python 3 (ipykernel)",
   "language": "python",
   "name": "python3"
  },
  "language_info": {
   "codemirror_mode": {
    "name": "ipython",
    "version": 3
   },
   "file_extension": ".py",
   "mimetype": "text/x-python",
   "name": "python",
   "nbconvert_exporter": "python",
   "pygments_lexer": "ipython3",
   "version": "3.9.7"
  }
 },
 "nbformat": 4,
 "nbformat_minor": 5
}
